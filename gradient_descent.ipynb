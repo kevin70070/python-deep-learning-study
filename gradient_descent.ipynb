{
 "cells": [
  {
   "cell_type": "code",
   "execution_count": 1,
   "metadata": {},
   "outputs": [],
   "source": [
    "import numpy as np"
   ]
  },
  {
   "cell_type": "code",
   "execution_count": 2,
   "metadata": {},
   "outputs": [],
   "source": [
    "x=np.array([1,2,3])"
   ]
  },
  {
   "cell_type": "code",
   "execution_count": 3,
   "metadata": {},
   "outputs": [
    {
     "data": {
      "text/plain": [
       "array([1, 2, 3])"
      ]
     },
     "execution_count": 3,
     "metadata": {},
     "output_type": "execute_result"
    }
   ],
   "source": [
    "x"
   ]
  },
  {
   "cell_type": "code",
   "execution_count": 4,
   "metadata": {},
   "outputs": [],
   "source": [
    "y=x*3+1"
   ]
  },
  {
   "cell_type": "code",
   "execution_count": 5,
   "metadata": {},
   "outputs": [
    {
     "data": {
      "text/plain": [
       "array([ 4,  7, 10])"
      ]
     },
     "execution_count": 5,
     "metadata": {},
     "output_type": "execute_result"
    }
   ],
   "source": [
    "y"
   ]
  },
  {
   "cell_type": "code",
   "execution_count": 6,
   "metadata": {},
   "outputs": [],
   "source": [
    "def GD(x,y,epoch):\n",
    "    w=1\n",
    "    rate=0.003\n",
    "    b=1\n",
    "    for i in range(epoch):\n",
    "        loss=y-(w*x+b)\n",
    "        wd=-(2/len(x))*sum(x*(loss))\n",
    "        bd=-(2/len(x))*sum(loss)\n",
    "        w-=wd*rate\n",
    "        b-=bd*rate\n",
    "        if i%(100)==0:\n",
    "            print('epoch : ',i,'\\tw : ',w,'\\t\\tb : ',b,'\\t\\tloss : ',sum(loss**2))\n",
    "    return w,b"
   ]
  },
  {
   "cell_type": "code",
   "execution_count": 7,
   "metadata": {},
   "outputs": [
    {
     "name": "stdout",
     "output_type": "stream",
     "text": [
      "epoch :  0 \tw :  1.056 \t\tb :  1.024 \t\tloss :  56\n",
      "epoch :  100 \tw :  2.643605828731269 \t\tb :  1.661197687892923 \t\tloss :  0.26650331188962045\n",
      "epoch :  200 \tw :  2.7176361807783365 \t\tb :  1.6368301342650327 \t\tloss :  0.17531244565437984\n",
      "epoch :  300 \tw :  2.738957972361951 \t\tb :  1.5932387489997009 \t\tloss :  0.15169357478322132\n",
      "epoch :  400 \tw :  2.7571838432255045 \t\tb :  1.5519723976602053 \t\tloss :  0.13131172259179494\n",
      "epoch :  500 \tw :  2.7740865054424417 \t\tb :  1.5135542774188262 \t\tloss :  0.11366848002479799\n",
      "epoch :  600 \tw :  2.789810839072195 \t\tb :  1.4778093610191578 \t\tloss :  0.09839581040944428\n",
      "epoch :  700 \tw :  2.804440648331628 \t\tb :  1.4445523722783973 \t\tloss :  0.0851751998797605\n",
      "epoch :  800 \tw :  2.818052176091977 \t\tb :  1.4136101705121549 \t\tloss :  0.07373093066024297\n",
      "epoch :  900 \tw :  2.8307162999083326 \t\tb :  1.3848216403867852 \t\tloss :  0.06382433083456021\n",
      "epoch :  1000 \tw :  2.8424989620561516 \t\tb :  1.3580368798141338 \t\tloss :  0.05524879680755125\n",
      "epoch :  1100 \tw :  2.8534615149599794 \t\tb :  1.3331164203192494 \t\tloss :  0.04782548455688921\n",
      "epoch :  1200 \tw :  2.8636610407260874 \t\tb :  1.3099305008576654 \t\tloss :  0.04139957981471622\n",
      "epoch :  1300 \tw :  2.873150648371882 \t\tb :  1.2883583921495836 \t\tloss :  0.03583706939333371\n",
      "epoch :  1400 \tw :  2.8819797503650677 \t\tb :  1.2682877680415185 \t\tloss :  0.031021946320481844\n",
      "epoch :  1500 \tw :  2.8901943199148037 \t\tb :  1.2496141206230662 \t\tloss :  0.026853790496883134\n",
      "epoch :  1600 \tw :  2.8978371303545885 \t\tb :  1.2322402160533255 \t\tloss :  0.023245674420317913\n",
      "epoch :  1700 \tw :  2.9049479778633738 \t\tb :  1.2160755882634602 \t\tloss :  0.02012235029978882\n",
      "epoch :  1800 \tw :  2.9115638886846065 \t\tb :  1.2010360678991108 \t\tloss :  0.01741868075178328\n",
      "epoch :  1900 \tw :  2.9177193119221907 \t\tb :  1.1870433440498485 \t\tloss :  0.015078280350567618\n",
      "epoch :  2000 \tw :  2.9234462989172707 \t\tb :  1.1740245564836014 \t\tloss :  0.013052339701847755\n",
      "epoch :  2100 \tw :  2.9287746701398287 \t\tb :  1.1619119162628042 \t\tloss :  0.011298607515678297\n",
      "epoch :  2200 \tw :  2.933732170464129 \t\tb :  1.1506423527668284 \t\tloss :  0.009780509449602518\n",
      "epoch :  2300 \tw :  2.938344613636519 \t\tb :  1.1401571852827168 \t\tloss :  0.00846638534536467\n",
      "epoch :  2400 \tw :  2.9426360166878194 \t\tb :  1.1304018174542187 \t\tloss :  0.007328828951657542\n",
      "epoch :  2500 \tw :  2.9466287249902128 \t\tb :  1.121325452998092 \t\tloss :  0.006344116362723662\n",
      "epoch :  2600 \tw :  2.9503435286097783 \t\tb :  1.1128808312074343 \t\tloss :  0.005491711252815401\n",
      "epoch :  2700 \tw :  2.953799770560555 \t\tb :  1.1050239808647717 \t\tloss :  0.00475383658810339\n",
      "epoch :  2800 \tw :  2.9570154475237707 \t\tb :  1.0977139912835558 \t\tloss :  0.004115103884022321\n",
      "epoch :  2900 \tw :  2.96000730355672 \t\tb :  1.0909127992858767 \t\tloss :  0.0035621922761655956\n"
     ]
    }
   ],
   "source": [
    "w,b=GD(x,y,3000)"
   ]
  },
  {
   "cell_type": "code",
   "execution_count": 8,
   "metadata": {},
   "outputs": [
    {
     "name": "stdout",
     "output_type": "stream",
     "text": [
      "[4.0474101  7.01017416 9.97293823]\n"
     ]
    }
   ],
   "source": [
    "print(w*x+b)"
   ]
  },
  {
   "cell_type": "code",
   "execution_count": null,
   "metadata": {},
   "outputs": [],
   "source": []
  },
  {
   "cell_type": "code",
   "execution_count": null,
   "metadata": {},
   "outputs": [],
   "source": []
  },
  {
   "cell_type": "code",
   "execution_count": null,
   "metadata": {},
   "outputs": [],
   "source": []
  }
 ],
 "metadata": {
  "kernelspec": {
   "display_name": "Python 3",
   "language": "python",
   "name": "python3"
  },
  "language_info": {
   "codemirror_mode": {
    "name": "ipython",
    "version": 3
   },
   "file_extension": ".py",
   "mimetype": "text/x-python",
   "name": "python",
   "nbconvert_exporter": "python",
   "pygments_lexer": "ipython3",
   "version": "3.7.4"
  }
 },
 "nbformat": 4,
 "nbformat_minor": 2
}
